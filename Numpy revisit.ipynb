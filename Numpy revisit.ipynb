{
 "cells": [
  {
   "cell_type": "code",
   "execution_count": 9,
   "metadata": {},
   "outputs": [],
   "source": [
    "import numpy as np\n",
    "import pandas as pd"
   ]
  },
  {
   "cell_type": "code",
   "execution_count": 5,
   "metadata": {},
   "outputs": [
    {
     "data": {
      "text/plain": [
       "'1.16.4'"
      ]
     },
     "execution_count": 5,
     "metadata": {},
     "output_type": "execute_result"
    }
   ],
   "source": [
    "np.__version__"
   ]
  },
  {
   "cell_type": "code",
   "execution_count": 6,
   "metadata": {},
   "outputs": [],
   "source": [
    "a=np.array([1,2,3,4,5,6,7,8,9])"
   ]
  },
  {
   "cell_type": "code",
   "execution_count": 7,
   "metadata": {},
   "outputs": [
    {
     "data": {
      "text/plain": [
       "array([1, 2, 3, 4, 5, 6, 7, 8, 9])"
      ]
     },
     "execution_count": 7,
     "metadata": {},
     "output_type": "execute_result"
    }
   ],
   "source": [
    "a"
   ]
  },
  {
   "cell_type": "code",
   "execution_count": 11,
   "metadata": {},
   "outputs": [
    {
     "data": {
      "text/plain": [
       "array([[ True,  True,  True],\n",
       "       [ True,  True,  True],\n",
       "       [ True,  True,  True]])"
      ]
     },
     "execution_count": 11,
     "metadata": {},
     "output_type": "execute_result"
    }
   ],
   "source": [
    "np.full((3,3),True,dtype=bool)"
   ]
  },
  {
   "cell_type": "code",
   "execution_count": 13,
   "metadata": {},
   "outputs": [
    {
     "data": {
      "text/plain": [
       "array([1, 3, 5, 7, 9])"
      ]
     },
     "execution_count": 13,
     "metadata": {},
     "output_type": "execute_result"
    }
   ],
   "source": [
    "a[a%2==1]"
   ]
  },
  {
   "cell_type": "code",
   "execution_count": 14,
   "metadata": {},
   "outputs": [],
   "source": [
    "a[a%2==1]=-1"
   ]
  },
  {
   "cell_type": "code",
   "execution_count": 15,
   "metadata": {},
   "outputs": [
    {
     "data": {
      "text/plain": [
       "array([-1,  2, -1,  4, -1,  6, -1,  8, -1])"
      ]
     },
     "execution_count": 15,
     "metadata": {},
     "output_type": "execute_result"
    }
   ],
   "source": [
    "a"
   ]
  },
  {
   "cell_type": "code",
   "execution_count": 21,
   "metadata": {},
   "outputs": [],
   "source": [
    "b=np.arange(10)"
   ]
  },
  {
   "cell_type": "code",
   "execution_count": 22,
   "metadata": {},
   "outputs": [
    {
     "data": {
      "text/plain": [
       "array([0, 1, 2, 3, 4, 5, 6, 7, 8, 9])"
      ]
     },
     "execution_count": 22,
     "metadata": {},
     "output_type": "execute_result"
    }
   ],
   "source": [
    "b"
   ]
  },
  {
   "cell_type": "code",
   "execution_count": 23,
   "metadata": {},
   "outputs": [],
   "source": [
    "out=np.where(b%2==1,-1,b)"
   ]
  },
  {
   "cell_type": "code",
   "execution_count": 24,
   "metadata": {},
   "outputs": [
    {
     "data": {
      "text/plain": [
       "array([ 0, -1,  2, -1,  4, -1,  6, -1,  8, -1])"
      ]
     },
     "execution_count": 24,
     "metadata": {},
     "output_type": "execute_result"
    }
   ],
   "source": [
    "out"
   ]
  },
  {
   "cell_type": "code",
   "execution_count": 27,
   "metadata": {},
   "outputs": [
    {
     "name": "stdout",
     "output_type": "stream",
     "text": [
      "[0 1 2 3 4 5 6 7 8 9]\n",
      "[ 0 -1  2 -1  4 -1  6 -1  8 -1]\n"
     ]
    }
   ],
   "source": [
    "print(b)\n",
    "print(out)"
   ]
  },
  {
   "cell_type": "code",
   "execution_count": 39,
   "metadata": {},
   "outputs": [],
   "source": [
    "c=np.arange(10).reshape(2,-1)"
   ]
  },
  {
   "cell_type": "code",
   "execution_count": 40,
   "metadata": {},
   "outputs": [
    {
     "data": {
      "text/plain": [
       "array([[0, 1, 2, 3, 4],\n",
       "       [5, 6, 7, 8, 9]])"
      ]
     },
     "execution_count": 40,
     "metadata": {},
     "output_type": "execute_result"
    }
   ],
   "source": [
    "c"
   ]
  },
  {
   "cell_type": "code",
   "execution_count": 41,
   "metadata": {},
   "outputs": [],
   "source": [
    "d=np.repeat(1,10).reshape(2,-1)"
   ]
  },
  {
   "cell_type": "code",
   "execution_count": 42,
   "metadata": {},
   "outputs": [
    {
     "data": {
      "text/plain": [
       "array([[1, 1, 1, 1, 1],\n",
       "       [1, 1, 1, 1, 1]])"
      ]
     },
     "execution_count": 42,
     "metadata": {},
     "output_type": "execute_result"
    }
   ],
   "source": [
    "d"
   ]
  },
  {
   "cell_type": "code",
   "execution_count": 44,
   "metadata": {},
   "outputs": [
    {
     "data": {
      "text/plain": [
       "array([[0, 1, 2, 3, 4],\n",
       "       [5, 6, 7, 8, 9],\n",
       "       [1, 1, 1, 1, 1],\n",
       "       [1, 1, 1, 1, 1]])"
      ]
     },
     "execution_count": 44,
     "metadata": {},
     "output_type": "execute_result"
    }
   ],
   "source": [
    "np.vstack([c,d])"
   ]
  },
  {
   "cell_type": "code",
   "execution_count": 45,
   "metadata": {},
   "outputs": [
    {
     "data": {
      "text/plain": [
       "array([[0, 1, 2, 3, 4, 1, 1, 1, 1, 1],\n",
       "       [5, 6, 7, 8, 9, 1, 1, 1, 1, 1]])"
      ]
     },
     "execution_count": 45,
     "metadata": {},
     "output_type": "execute_result"
    }
   ],
   "source": [
    "np.hstack([c,d])"
   ]
  },
  {
   "cell_type": "code",
   "execution_count": 46,
   "metadata": {},
   "outputs": [
    {
     "data": {
      "text/plain": [
       "array([[0, 1, 2, 3, 4],\n",
       "       [5, 6, 7, 8, 9],\n",
       "       [1, 1, 1, 1, 1],\n",
       "       [1, 1, 1, 1, 1]])"
      ]
     },
     "execution_count": 46,
     "metadata": {},
     "output_type": "execute_result"
    }
   ],
   "source": [
    "np.concatenate([c,d],axis=0)"
   ]
  },
  {
   "cell_type": "code",
   "execution_count": 47,
   "metadata": {},
   "outputs": [
    {
     "data": {
      "text/plain": [
       "array([[0, 1, 2, 3, 4, 1, 1, 1, 1, 1],\n",
       "       [5, 6, 7, 8, 9, 1, 1, 1, 1, 1]])"
      ]
     },
     "execution_count": 47,
     "metadata": {},
     "output_type": "execute_result"
    }
   ],
   "source": [
    "np.concatenate([c,d],axis=1)"
   ]
  },
  {
   "cell_type": "code",
   "execution_count": 48,
   "metadata": {},
   "outputs": [],
   "source": [
    "e=np.array([1,2,3])"
   ]
  },
  {
   "cell_type": "code",
   "execution_count": 53,
   "metadata": {},
   "outputs": [
    {
     "data": {
      "text/plain": [
       "array([1, 1, 1, 2, 2, 2, 3, 3, 3, 1, 2, 3, 1, 2, 3, 1, 2, 3])"
      ]
     },
     "execution_count": 53,
     "metadata": {},
     "output_type": "execute_result"
    }
   ],
   "source": [
    "np.r_[np.repeat(e,3),np.tile(e,3)]"
   ]
  },
  {
   "cell_type": "code",
   "execution_count": 54,
   "metadata": {},
   "outputs": [],
   "source": [
    "a = np.array([1,2,3,2,3,4,3,4,5,6])\n",
    "b = np.array([7,2,10,2,7,4,9,4,9,8])"
   ]
  },
  {
   "cell_type": "code",
   "execution_count": 66,
   "metadata": {},
   "outputs": [
    {
     "data": {
      "text/plain": [
       "array([2, 4])"
      ]
     },
     "execution_count": 66,
     "metadata": {},
     "output_type": "execute_result"
    }
   ],
   "source": [
    "np.intersect1d(a,b)"
   ]
  },
  {
   "cell_type": "code",
   "execution_count": 69,
   "metadata": {},
   "outputs": [
    {
     "data": {
      "text/plain": [
       "array([1, 3, 5, 6])"
      ]
     },
     "execution_count": 69,
     "metadata": {},
     "output_type": "execute_result"
    }
   ],
   "source": [
    "np.setdiff1d(a,b)"
   ]
  },
  {
   "cell_type": "code",
   "execution_count": 70,
   "metadata": {},
   "outputs": [
    {
     "data": {
      "text/plain": [
       "(array([1, 3, 5, 7], dtype=int64),)"
      ]
     },
     "execution_count": 70,
     "metadata": {},
     "output_type": "execute_result"
    }
   ],
   "source": [
    "np.where(a==b)"
   ]
  },
  {
   "cell_type": "code",
   "execution_count": 71,
   "metadata": {},
   "outputs": [],
   "source": [
    "a = np.array([2, 6, 1, 9, 10, 3, 27])"
   ]
  },
  {
   "cell_type": "code",
   "execution_count": 74,
   "metadata": {},
   "outputs": [
    {
     "data": {
      "text/plain": [
       "array([ 6,  9, 10])"
      ]
     },
     "execution_count": 74,
     "metadata": {},
     "output_type": "execute_result"
    }
   ],
   "source": [
    "a[(a>=5)&(a<=10)]"
   ]
  },
  {
   "cell_type": "code",
   "execution_count": 75,
   "metadata": {},
   "outputs": [
    {
     "data": {
      "text/plain": [
       "array([6., 7., 9., 8., 9., 7., 5.])"
      ]
     },
     "execution_count": 75,
     "metadata": {},
     "output_type": "execute_result"
    }
   ],
   "source": [
    "def maxx(x, y):\n",
    "    \"\"\"Get the maximum of two items\"\"\"\n",
    "    if x >= y:\n",
    "        return x\n",
    "    else:\n",
    "        return y\n",
    "\n",
    "pair_max = np.vectorize(maxx, otypes=[float])\n",
    "\n",
    "a = np.array([5, 7, 9, 8, 6, 4, 5])\n",
    "b = np.array([6, 3, 4, 8, 9, 7, 1])\n",
    "\n",
    "pair_max(a, b)"
   ]
  },
  {
   "cell_type": "code",
   "execution_count": 91,
   "metadata": {},
   "outputs": [],
   "source": [
    "arr = np.arange(9).reshape(3,3)"
   ]
  },
  {
   "cell_type": "code",
   "execution_count": 77,
   "metadata": {},
   "outputs": [
    {
     "data": {
      "text/plain": [
       "array([[0, 1, 2],\n",
       "       [3, 4, 5],\n",
       "       [6, 7, 8]])"
      ]
     },
     "execution_count": 77,
     "metadata": {},
     "output_type": "execute_result"
    }
   ],
   "source": [
    "arr"
   ]
  },
  {
   "cell_type": "code",
   "execution_count": 85,
   "metadata": {},
   "outputs": [
    {
     "data": {
      "text/plain": [
       "array([[1, 0, 2],\n",
       "       [4, 3, 5],\n",
       "       [7, 6, 8]])"
      ]
     },
     "execution_count": 85,
     "metadata": {},
     "output_type": "execute_result"
    }
   ],
   "source": [
    "arr[:,[1,0,2]]"
   ]
  },
  {
   "cell_type": "code",
   "execution_count": 88,
   "metadata": {},
   "outputs": [
    {
     "data": {
      "text/plain": [
       "array([[0, 2, 1],\n",
       "       [3, 5, 4],\n",
       "       [6, 8, 7]])"
      ]
     },
     "execution_count": 88,
     "metadata": {},
     "output_type": "execute_result"
    }
   ],
   "source": [
    "arr[:,[0,2,1]]"
   ]
  },
  {
   "cell_type": "code",
   "execution_count": 90,
   "metadata": {},
   "outputs": [
    {
     "data": {
      "text/plain": [
       "array([[3, 4, 5],\n",
       "       [6, 7, 8],\n",
       "       [0, 1, 2]])"
      ]
     },
     "execution_count": 90,
     "metadata": {},
     "output_type": "execute_result"
    }
   ],
   "source": [
    "arr[[1,2,0],:]"
   ]
  },
  {
   "cell_type": "code",
   "execution_count": 92,
   "metadata": {},
   "outputs": [
    {
     "data": {
      "text/plain": [
       "array([[0, 1, 2],\n",
       "       [3, 4, 5],\n",
       "       [6, 7, 8]])"
      ]
     },
     "execution_count": 92,
     "metadata": {},
     "output_type": "execute_result"
    }
   ],
   "source": [
    "arr"
   ]
  },
  {
   "cell_type": "code",
   "execution_count": 93,
   "metadata": {},
   "outputs": [
    {
     "data": {
      "text/plain": [
       "array([[6, 7, 8],\n",
       "       [3, 4, 5],\n",
       "       [0, 1, 2]])"
      ]
     },
     "execution_count": 93,
     "metadata": {},
     "output_type": "execute_result"
    }
   ],
   "source": [
    "arr[::-1]"
   ]
  },
  {
   "cell_type": "code",
   "execution_count": 94,
   "metadata": {},
   "outputs": [
    {
     "data": {
      "text/plain": [
       "array([[0, 1, 2],\n",
       "       [3, 4, 5],\n",
       "       [6, 7, 8]])"
      ]
     },
     "execution_count": 94,
     "metadata": {},
     "output_type": "execute_result"
    }
   ],
   "source": [
    "arr[::1]"
   ]
  },
  {
   "cell_type": "code",
   "execution_count": 96,
   "metadata": {},
   "outputs": [
    {
     "data": {
      "text/plain": [
       "array([[2, 1, 0],\n",
       "       [5, 4, 3],\n",
       "       [8, 7, 6]])"
      ]
     },
     "execution_count": 96,
     "metadata": {},
     "output_type": "execute_result"
    }
   ],
   "source": [
    "arr[:,::-1]"
   ]
  },
  {
   "cell_type": "code",
   "execution_count": 107,
   "metadata": {},
   "outputs": [
    {
     "data": {
      "text/plain": [
       "array([[9.78566554, 7.43735049, 9.61181271],\n",
       "       [9.7226305 , 9.47095123, 7.82240529],\n",
       "       [8.26392331, 9.63854144, 5.08236734],\n",
       "       [7.5407144 , 7.4393634 , 7.80595809],\n",
       "       [7.26392474, 9.91825475, 7.23230579]])"
      ]
     },
     "execution_count": 107,
     "metadata": {},
     "output_type": "execute_result"
    }
   ],
   "source": [
    "np.random.uniform(5,10,size=(5,3))"
   ]
  },
  {
   "cell_type": "code",
   "execution_count": 117,
   "metadata": {},
   "outputs": [],
   "source": [
    "rand_arr = np.random.random([5,3])"
   ]
  },
  {
   "cell_type": "code",
   "execution_count": 118,
   "metadata": {},
   "outputs": [],
   "source": [
    "np.set_printoptions(precision=3)"
   ]
  },
  {
   "cell_type": "code",
   "execution_count": 120,
   "metadata": {},
   "outputs": [
    {
     "data": {
      "text/plain": [
       "array([[0.107, 0.267, 0.723],\n",
       "       [0.774, 0.194, 0.05 ],\n",
       "       [0.518, 0.547, 0.708],\n",
       "       [0.865, 0.199, 0.29 ]])"
      ]
     },
     "execution_count": 120,
     "metadata": {},
     "output_type": "execute_result"
    }
   ],
   "source": [
    "rand_arr[:4]"
   ]
  },
  {
   "cell_type": "code",
   "execution_count": 129,
   "metadata": {},
   "outputs": [],
   "source": [
    "np.random.seed(100)"
   ]
  },
  {
   "cell_type": "code",
   "execution_count": 123,
   "metadata": {},
   "outputs": [
    {
     "data": {
      "text/plain": [
       "array([[5.434e-04, 2.784e-04, 4.245e-04],\n",
       "       [8.448e-04, 4.719e-06, 1.216e-04],\n",
       "       [6.707e-04, 8.259e-04, 1.367e-04]])"
      ]
     },
     "execution_count": 123,
     "metadata": {},
     "output_type": "execute_result"
    }
   ],
   "source": [
    "np.random.random([3,3])/1e3"
   ]
  },
  {
   "cell_type": "code",
   "execution_count": 131,
   "metadata": {},
   "outputs": [],
   "source": [
    "np.set_printoptions(suppress=True,precision=6)"
   ]
  },
  {
   "cell_type": "code",
   "execution_count": 132,
   "metadata": {},
   "outputs": [
    {
     "data": {
      "text/plain": [
       "array([[0.000575, 0.000891, 0.000209],\n",
       "       [0.000185, 0.000108, 0.00022 ],\n",
       "       [0.000979, 0.000812, 0.000172]])"
      ]
     },
     "execution_count": 132,
     "metadata": {},
     "output_type": "execute_result"
    }
   ],
   "source": [
    "np.random.random([3,3])/1e3"
   ]
  },
  {
   "cell_type": "code",
   "execution_count": 134,
   "metadata": {},
   "outputs": [],
   "source": [
    "a=np.arange(15)"
   ]
  },
  {
   "cell_type": "code",
   "execution_count": 135,
   "metadata": {},
   "outputs": [],
   "source": [
    "np.set_printoptions(threshold=6)"
   ]
  },
  {
   "cell_type": "code",
   "execution_count": 136,
   "metadata": {},
   "outputs": [
    {
     "data": {
      "text/plain": [
       "array([ 0,  1,  2, ..., 12, 13, 14])"
      ]
     },
     "execution_count": 136,
     "metadata": {},
     "output_type": "execute_result"
    }
   ],
   "source": [
    "a"
   ]
  },
  {
   "cell_type": "code",
   "execution_count": 142,
   "metadata": {},
   "outputs": [],
   "source": [
    "np.set_printoptions(threshold=100)"
   ]
  },
  {
   "cell_type": "code",
   "execution_count": 143,
   "metadata": {},
   "outputs": [
    {
     "data": {
      "text/plain": [
       "array([ 0,  1,  2,  3,  4,  5,  6,  7,  8,  9, 10, 11, 12, 13, 14])"
      ]
     },
     "execution_count": 143,
     "metadata": {},
     "output_type": "execute_result"
    }
   ],
   "source": [
    "a"
   ]
  },
  {
   "cell_type": "code",
   "execution_count": 6,
   "metadata": {},
   "outputs": [],
   "source": [
    "iris = np.genfromtxt(\"https://archive.ics.uci.edu/ml/machine-learning-databases/iris/iris.data\", delimiter=',', dtype='object')"
   ]
  },
  {
   "cell_type": "code",
   "execution_count": 10,
   "metadata": {},
   "outputs": [
    {
     "data": {
      "text/html": [
       "<div>\n",
       "<style scoped>\n",
       "    .dataframe tbody tr th:only-of-type {\n",
       "        vertical-align: middle;\n",
       "    }\n",
       "\n",
       "    .dataframe tbody tr th {\n",
       "        vertical-align: top;\n",
       "    }\n",
       "\n",
       "    .dataframe thead th {\n",
       "        text-align: right;\n",
       "    }\n",
       "</style>\n",
       "<table border=\"1\" class=\"dataframe\">\n",
       "  <thead>\n",
       "    <tr style=\"text-align: right;\">\n",
       "      <th></th>\n",
       "      <th>0</th>\n",
       "      <th>1</th>\n",
       "      <th>2</th>\n",
       "      <th>3</th>\n",
       "      <th>4</th>\n",
       "    </tr>\n",
       "  </thead>\n",
       "  <tbody>\n",
       "    <tr>\n",
       "      <th>0</th>\n",
       "      <td>b'5.1'</td>\n",
       "      <td>b'3.5'</td>\n",
       "      <td>b'1.4'</td>\n",
       "      <td>b'0.2'</td>\n",
       "      <td>b'Iris-setosa'</td>\n",
       "    </tr>\n",
       "    <tr>\n",
       "      <th>1</th>\n",
       "      <td>b'4.9'</td>\n",
       "      <td>b'3.0'</td>\n",
       "      <td>b'1.4'</td>\n",
       "      <td>b'0.2'</td>\n",
       "      <td>b'Iris-setosa'</td>\n",
       "    </tr>\n",
       "    <tr>\n",
       "      <th>2</th>\n",
       "      <td>b'4.7'</td>\n",
       "      <td>b'3.2'</td>\n",
       "      <td>b'1.3'</td>\n",
       "      <td>b'0.2'</td>\n",
       "      <td>b'Iris-setosa'</td>\n",
       "    </tr>\n",
       "    <tr>\n",
       "      <th>3</th>\n",
       "      <td>b'4.6'</td>\n",
       "      <td>b'3.1'</td>\n",
       "      <td>b'1.5'</td>\n",
       "      <td>b'0.2'</td>\n",
       "      <td>b'Iris-setosa'</td>\n",
       "    </tr>\n",
       "    <tr>\n",
       "      <th>4</th>\n",
       "      <td>b'5.0'</td>\n",
       "      <td>b'3.6'</td>\n",
       "      <td>b'1.4'</td>\n",
       "      <td>b'0.2'</td>\n",
       "      <td>b'Iris-setosa'</td>\n",
       "    </tr>\n",
       "    <tr>\n",
       "      <th>5</th>\n",
       "      <td>b'5.4'</td>\n",
       "      <td>b'3.9'</td>\n",
       "      <td>b'1.7'</td>\n",
       "      <td>b'0.4'</td>\n",
       "      <td>b'Iris-setosa'</td>\n",
       "    </tr>\n",
       "    <tr>\n",
       "      <th>6</th>\n",
       "      <td>b'4.6'</td>\n",
       "      <td>b'3.4'</td>\n",
       "      <td>b'1.4'</td>\n",
       "      <td>b'0.3'</td>\n",
       "      <td>b'Iris-setosa'</td>\n",
       "    </tr>\n",
       "    <tr>\n",
       "      <th>7</th>\n",
       "      <td>b'5.0'</td>\n",
       "      <td>b'3.4'</td>\n",
       "      <td>b'1.5'</td>\n",
       "      <td>b'0.2'</td>\n",
       "      <td>b'Iris-setosa'</td>\n",
       "    </tr>\n",
       "    <tr>\n",
       "      <th>8</th>\n",
       "      <td>b'4.4'</td>\n",
       "      <td>b'2.9'</td>\n",
       "      <td>b'1.4'</td>\n",
       "      <td>b'0.2'</td>\n",
       "      <td>b'Iris-setosa'</td>\n",
       "    </tr>\n",
       "    <tr>\n",
       "      <th>9</th>\n",
       "      <td>b'4.9'</td>\n",
       "      <td>b'3.1'</td>\n",
       "      <td>b'1.5'</td>\n",
       "      <td>b'0.1'</td>\n",
       "      <td>b'Iris-setosa'</td>\n",
       "    </tr>\n",
       "    <tr>\n",
       "      <th>10</th>\n",
       "      <td>b'5.4'</td>\n",
       "      <td>b'3.7'</td>\n",
       "      <td>b'1.5'</td>\n",
       "      <td>b'0.2'</td>\n",
       "      <td>b'Iris-setosa'</td>\n",
       "    </tr>\n",
       "    <tr>\n",
       "      <th>11</th>\n",
       "      <td>b'4.8'</td>\n",
       "      <td>b'3.4'</td>\n",
       "      <td>b'1.6'</td>\n",
       "      <td>b'0.2'</td>\n",
       "      <td>b'Iris-setosa'</td>\n",
       "    </tr>\n",
       "    <tr>\n",
       "      <th>12</th>\n",
       "      <td>b'4.8'</td>\n",
       "      <td>b'3.0'</td>\n",
       "      <td>b'1.4'</td>\n",
       "      <td>b'0.1'</td>\n",
       "      <td>b'Iris-setosa'</td>\n",
       "    </tr>\n",
       "    <tr>\n",
       "      <th>13</th>\n",
       "      <td>b'4.3'</td>\n",
       "      <td>b'3.0'</td>\n",
       "      <td>b'1.1'</td>\n",
       "      <td>b'0.1'</td>\n",
       "      <td>b'Iris-setosa'</td>\n",
       "    </tr>\n",
       "    <tr>\n",
       "      <th>14</th>\n",
       "      <td>b'5.8'</td>\n",
       "      <td>b'4.0'</td>\n",
       "      <td>b'1.2'</td>\n",
       "      <td>b'0.2'</td>\n",
       "      <td>b'Iris-setosa'</td>\n",
       "    </tr>\n",
       "    <tr>\n",
       "      <th>15</th>\n",
       "      <td>b'5.7'</td>\n",
       "      <td>b'4.4'</td>\n",
       "      <td>b'1.5'</td>\n",
       "      <td>b'0.4'</td>\n",
       "      <td>b'Iris-setosa'</td>\n",
       "    </tr>\n",
       "    <tr>\n",
       "      <th>16</th>\n",
       "      <td>b'5.4'</td>\n",
       "      <td>b'3.9'</td>\n",
       "      <td>b'1.3'</td>\n",
       "      <td>b'0.4'</td>\n",
       "      <td>b'Iris-setosa'</td>\n",
       "    </tr>\n",
       "    <tr>\n",
       "      <th>17</th>\n",
       "      <td>b'5.1'</td>\n",
       "      <td>b'3.5'</td>\n",
       "      <td>b'1.4'</td>\n",
       "      <td>b'0.3'</td>\n",
       "      <td>b'Iris-setosa'</td>\n",
       "    </tr>\n",
       "    <tr>\n",
       "      <th>18</th>\n",
       "      <td>b'5.7'</td>\n",
       "      <td>b'3.8'</td>\n",
       "      <td>b'1.7'</td>\n",
       "      <td>b'0.3'</td>\n",
       "      <td>b'Iris-setosa'</td>\n",
       "    </tr>\n",
       "    <tr>\n",
       "      <th>19</th>\n",
       "      <td>b'5.1'</td>\n",
       "      <td>b'3.8'</td>\n",
       "      <td>b'1.5'</td>\n",
       "      <td>b'0.3'</td>\n",
       "      <td>b'Iris-setosa'</td>\n",
       "    </tr>\n",
       "    <tr>\n",
       "      <th>20</th>\n",
       "      <td>b'5.4'</td>\n",
       "      <td>b'3.4'</td>\n",
       "      <td>b'1.7'</td>\n",
       "      <td>b'0.2'</td>\n",
       "      <td>b'Iris-setosa'</td>\n",
       "    </tr>\n",
       "    <tr>\n",
       "      <th>21</th>\n",
       "      <td>b'5.1'</td>\n",
       "      <td>b'3.7'</td>\n",
       "      <td>b'1.5'</td>\n",
       "      <td>b'0.4'</td>\n",
       "      <td>b'Iris-setosa'</td>\n",
       "    </tr>\n",
       "    <tr>\n",
       "      <th>22</th>\n",
       "      <td>b'4.6'</td>\n",
       "      <td>b'3.6'</td>\n",
       "      <td>b'1.0'</td>\n",
       "      <td>b'0.2'</td>\n",
       "      <td>b'Iris-setosa'</td>\n",
       "    </tr>\n",
       "    <tr>\n",
       "      <th>23</th>\n",
       "      <td>b'5.1'</td>\n",
       "      <td>b'3.3'</td>\n",
       "      <td>b'1.7'</td>\n",
       "      <td>b'0.5'</td>\n",
       "      <td>b'Iris-setosa'</td>\n",
       "    </tr>\n",
       "    <tr>\n",
       "      <th>24</th>\n",
       "      <td>b'4.8'</td>\n",
       "      <td>b'3.4'</td>\n",
       "      <td>b'1.9'</td>\n",
       "      <td>b'0.2'</td>\n",
       "      <td>b'Iris-setosa'</td>\n",
       "    </tr>\n",
       "    <tr>\n",
       "      <th>25</th>\n",
       "      <td>b'5.0'</td>\n",
       "      <td>b'3.0'</td>\n",
       "      <td>b'1.6'</td>\n",
       "      <td>b'0.2'</td>\n",
       "      <td>b'Iris-setosa'</td>\n",
       "    </tr>\n",
       "    <tr>\n",
       "      <th>26</th>\n",
       "      <td>b'5.0'</td>\n",
       "      <td>b'3.4'</td>\n",
       "      <td>b'1.6'</td>\n",
       "      <td>b'0.4'</td>\n",
       "      <td>b'Iris-setosa'</td>\n",
       "    </tr>\n",
       "    <tr>\n",
       "      <th>27</th>\n",
       "      <td>b'5.2'</td>\n",
       "      <td>b'3.5'</td>\n",
       "      <td>b'1.5'</td>\n",
       "      <td>b'0.2'</td>\n",
       "      <td>b'Iris-setosa'</td>\n",
       "    </tr>\n",
       "    <tr>\n",
       "      <th>28</th>\n",
       "      <td>b'5.2'</td>\n",
       "      <td>b'3.4'</td>\n",
       "      <td>b'1.4'</td>\n",
       "      <td>b'0.2'</td>\n",
       "      <td>b'Iris-setosa'</td>\n",
       "    </tr>\n",
       "    <tr>\n",
       "      <th>29</th>\n",
       "      <td>b'4.7'</td>\n",
       "      <td>b'3.2'</td>\n",
       "      <td>b'1.6'</td>\n",
       "      <td>b'0.2'</td>\n",
       "      <td>b'Iris-setosa'</td>\n",
       "    </tr>\n",
       "    <tr>\n",
       "      <th>...</th>\n",
       "      <td>...</td>\n",
       "      <td>...</td>\n",
       "      <td>...</td>\n",
       "      <td>...</td>\n",
       "      <td>...</td>\n",
       "    </tr>\n",
       "    <tr>\n",
       "      <th>120</th>\n",
       "      <td>b'6.9'</td>\n",
       "      <td>b'3.2'</td>\n",
       "      <td>b'5.7'</td>\n",
       "      <td>b'2.3'</td>\n",
       "      <td>b'Iris-virginica'</td>\n",
       "    </tr>\n",
       "    <tr>\n",
       "      <th>121</th>\n",
       "      <td>b'5.6'</td>\n",
       "      <td>b'2.8'</td>\n",
       "      <td>b'4.9'</td>\n",
       "      <td>b'2.0'</td>\n",
       "      <td>b'Iris-virginica'</td>\n",
       "    </tr>\n",
       "    <tr>\n",
       "      <th>122</th>\n",
       "      <td>b'7.7'</td>\n",
       "      <td>b'2.8'</td>\n",
       "      <td>b'6.7'</td>\n",
       "      <td>b'2.0'</td>\n",
       "      <td>b'Iris-virginica'</td>\n",
       "    </tr>\n",
       "    <tr>\n",
       "      <th>123</th>\n",
       "      <td>b'6.3'</td>\n",
       "      <td>b'2.7'</td>\n",
       "      <td>b'4.9'</td>\n",
       "      <td>b'1.8'</td>\n",
       "      <td>b'Iris-virginica'</td>\n",
       "    </tr>\n",
       "    <tr>\n",
       "      <th>124</th>\n",
       "      <td>b'6.7'</td>\n",
       "      <td>b'3.3'</td>\n",
       "      <td>b'5.7'</td>\n",
       "      <td>b'2.1'</td>\n",
       "      <td>b'Iris-virginica'</td>\n",
       "    </tr>\n",
       "    <tr>\n",
       "      <th>125</th>\n",
       "      <td>b'7.2'</td>\n",
       "      <td>b'3.2'</td>\n",
       "      <td>b'6.0'</td>\n",
       "      <td>b'1.8'</td>\n",
       "      <td>b'Iris-virginica'</td>\n",
       "    </tr>\n",
       "    <tr>\n",
       "      <th>126</th>\n",
       "      <td>b'6.2'</td>\n",
       "      <td>b'2.8'</td>\n",
       "      <td>b'4.8'</td>\n",
       "      <td>b'1.8'</td>\n",
       "      <td>b'Iris-virginica'</td>\n",
       "    </tr>\n",
       "    <tr>\n",
       "      <th>127</th>\n",
       "      <td>b'6.1'</td>\n",
       "      <td>b'3.0'</td>\n",
       "      <td>b'4.9'</td>\n",
       "      <td>b'1.8'</td>\n",
       "      <td>b'Iris-virginica'</td>\n",
       "    </tr>\n",
       "    <tr>\n",
       "      <th>128</th>\n",
       "      <td>b'6.4'</td>\n",
       "      <td>b'2.8'</td>\n",
       "      <td>b'5.6'</td>\n",
       "      <td>b'2.1'</td>\n",
       "      <td>b'Iris-virginica'</td>\n",
       "    </tr>\n",
       "    <tr>\n",
       "      <th>129</th>\n",
       "      <td>b'7.2'</td>\n",
       "      <td>b'3.0'</td>\n",
       "      <td>b'5.8'</td>\n",
       "      <td>b'1.6'</td>\n",
       "      <td>b'Iris-virginica'</td>\n",
       "    </tr>\n",
       "    <tr>\n",
       "      <th>130</th>\n",
       "      <td>b'7.4'</td>\n",
       "      <td>b'2.8'</td>\n",
       "      <td>b'6.1'</td>\n",
       "      <td>b'1.9'</td>\n",
       "      <td>b'Iris-virginica'</td>\n",
       "    </tr>\n",
       "    <tr>\n",
       "      <th>131</th>\n",
       "      <td>b'7.9'</td>\n",
       "      <td>b'3.8'</td>\n",
       "      <td>b'6.4'</td>\n",
       "      <td>b'2.0'</td>\n",
       "      <td>b'Iris-virginica'</td>\n",
       "    </tr>\n",
       "    <tr>\n",
       "      <th>132</th>\n",
       "      <td>b'6.4'</td>\n",
       "      <td>b'2.8'</td>\n",
       "      <td>b'5.6'</td>\n",
       "      <td>b'2.2'</td>\n",
       "      <td>b'Iris-virginica'</td>\n",
       "    </tr>\n",
       "    <tr>\n",
       "      <th>133</th>\n",
       "      <td>b'6.3'</td>\n",
       "      <td>b'2.8'</td>\n",
       "      <td>b'5.1'</td>\n",
       "      <td>b'1.5'</td>\n",
       "      <td>b'Iris-virginica'</td>\n",
       "    </tr>\n",
       "    <tr>\n",
       "      <th>134</th>\n",
       "      <td>b'6.1'</td>\n",
       "      <td>b'2.6'</td>\n",
       "      <td>b'5.6'</td>\n",
       "      <td>b'1.4'</td>\n",
       "      <td>b'Iris-virginica'</td>\n",
       "    </tr>\n",
       "    <tr>\n",
       "      <th>135</th>\n",
       "      <td>b'7.7'</td>\n",
       "      <td>b'3.0'</td>\n",
       "      <td>b'6.1'</td>\n",
       "      <td>b'2.3'</td>\n",
       "      <td>b'Iris-virginica'</td>\n",
       "    </tr>\n",
       "    <tr>\n",
       "      <th>136</th>\n",
       "      <td>b'6.3'</td>\n",
       "      <td>b'3.4'</td>\n",
       "      <td>b'5.6'</td>\n",
       "      <td>b'2.4'</td>\n",
       "      <td>b'Iris-virginica'</td>\n",
       "    </tr>\n",
       "    <tr>\n",
       "      <th>137</th>\n",
       "      <td>b'6.4'</td>\n",
       "      <td>b'3.1'</td>\n",
       "      <td>b'5.5'</td>\n",
       "      <td>b'1.8'</td>\n",
       "      <td>b'Iris-virginica'</td>\n",
       "    </tr>\n",
       "    <tr>\n",
       "      <th>138</th>\n",
       "      <td>b'6.0'</td>\n",
       "      <td>b'3.0'</td>\n",
       "      <td>b'4.8'</td>\n",
       "      <td>b'1.8'</td>\n",
       "      <td>b'Iris-virginica'</td>\n",
       "    </tr>\n",
       "    <tr>\n",
       "      <th>139</th>\n",
       "      <td>b'6.9'</td>\n",
       "      <td>b'3.1'</td>\n",
       "      <td>b'5.4'</td>\n",
       "      <td>b'2.1'</td>\n",
       "      <td>b'Iris-virginica'</td>\n",
       "    </tr>\n",
       "    <tr>\n",
       "      <th>140</th>\n",
       "      <td>b'6.7'</td>\n",
       "      <td>b'3.1'</td>\n",
       "      <td>b'5.6'</td>\n",
       "      <td>b'2.4'</td>\n",
       "      <td>b'Iris-virginica'</td>\n",
       "    </tr>\n",
       "    <tr>\n",
       "      <th>141</th>\n",
       "      <td>b'6.9'</td>\n",
       "      <td>b'3.1'</td>\n",
       "      <td>b'5.1'</td>\n",
       "      <td>b'2.3'</td>\n",
       "      <td>b'Iris-virginica'</td>\n",
       "    </tr>\n",
       "    <tr>\n",
       "      <th>142</th>\n",
       "      <td>b'5.8'</td>\n",
       "      <td>b'2.7'</td>\n",
       "      <td>b'5.1'</td>\n",
       "      <td>b'1.9'</td>\n",
       "      <td>b'Iris-virginica'</td>\n",
       "    </tr>\n",
       "    <tr>\n",
       "      <th>143</th>\n",
       "      <td>b'6.8'</td>\n",
       "      <td>b'3.2'</td>\n",
       "      <td>b'5.9'</td>\n",
       "      <td>b'2.3'</td>\n",
       "      <td>b'Iris-virginica'</td>\n",
       "    </tr>\n",
       "    <tr>\n",
       "      <th>144</th>\n",
       "      <td>b'6.7'</td>\n",
       "      <td>b'3.3'</td>\n",
       "      <td>b'5.7'</td>\n",
       "      <td>b'2.5'</td>\n",
       "      <td>b'Iris-virginica'</td>\n",
       "    </tr>\n",
       "    <tr>\n",
       "      <th>145</th>\n",
       "      <td>b'6.7'</td>\n",
       "      <td>b'3.0'</td>\n",
       "      <td>b'5.2'</td>\n",
       "      <td>b'2.3'</td>\n",
       "      <td>b'Iris-virginica'</td>\n",
       "    </tr>\n",
       "    <tr>\n",
       "      <th>146</th>\n",
       "      <td>b'6.3'</td>\n",
       "      <td>b'2.5'</td>\n",
       "      <td>b'5.0'</td>\n",
       "      <td>b'1.9'</td>\n",
       "      <td>b'Iris-virginica'</td>\n",
       "    </tr>\n",
       "    <tr>\n",
       "      <th>147</th>\n",
       "      <td>b'6.5'</td>\n",
       "      <td>b'3.0'</td>\n",
       "      <td>b'5.2'</td>\n",
       "      <td>b'2.0'</td>\n",
       "      <td>b'Iris-virginica'</td>\n",
       "    </tr>\n",
       "    <tr>\n",
       "      <th>148</th>\n",
       "      <td>b'6.2'</td>\n",
       "      <td>b'3.4'</td>\n",
       "      <td>b'5.4'</td>\n",
       "      <td>b'2.3'</td>\n",
       "      <td>b'Iris-virginica'</td>\n",
       "    </tr>\n",
       "    <tr>\n",
       "      <th>149</th>\n",
       "      <td>b'5.9'</td>\n",
       "      <td>b'3.0'</td>\n",
       "      <td>b'5.1'</td>\n",
       "      <td>b'1.8'</td>\n",
       "      <td>b'Iris-virginica'</td>\n",
       "    </tr>\n",
       "  </tbody>\n",
       "</table>\n",
       "<p>150 rows × 5 columns</p>\n",
       "</div>"
      ],
      "text/plain": [
       "          0       1       2       3                  4\n",
       "0    b'5.1'  b'3.5'  b'1.4'  b'0.2'     b'Iris-setosa'\n",
       "1    b'4.9'  b'3.0'  b'1.4'  b'0.2'     b'Iris-setosa'\n",
       "2    b'4.7'  b'3.2'  b'1.3'  b'0.2'     b'Iris-setosa'\n",
       "3    b'4.6'  b'3.1'  b'1.5'  b'0.2'     b'Iris-setosa'\n",
       "4    b'5.0'  b'3.6'  b'1.4'  b'0.2'     b'Iris-setosa'\n",
       "5    b'5.4'  b'3.9'  b'1.7'  b'0.4'     b'Iris-setosa'\n",
       "6    b'4.6'  b'3.4'  b'1.4'  b'0.3'     b'Iris-setosa'\n",
       "7    b'5.0'  b'3.4'  b'1.5'  b'0.2'     b'Iris-setosa'\n",
       "8    b'4.4'  b'2.9'  b'1.4'  b'0.2'     b'Iris-setosa'\n",
       "9    b'4.9'  b'3.1'  b'1.5'  b'0.1'     b'Iris-setosa'\n",
       "10   b'5.4'  b'3.7'  b'1.5'  b'0.2'     b'Iris-setosa'\n",
       "11   b'4.8'  b'3.4'  b'1.6'  b'0.2'     b'Iris-setosa'\n",
       "12   b'4.8'  b'3.0'  b'1.4'  b'0.1'     b'Iris-setosa'\n",
       "13   b'4.3'  b'3.0'  b'1.1'  b'0.1'     b'Iris-setosa'\n",
       "14   b'5.8'  b'4.0'  b'1.2'  b'0.2'     b'Iris-setosa'\n",
       "15   b'5.7'  b'4.4'  b'1.5'  b'0.4'     b'Iris-setosa'\n",
       "16   b'5.4'  b'3.9'  b'1.3'  b'0.4'     b'Iris-setosa'\n",
       "17   b'5.1'  b'3.5'  b'1.4'  b'0.3'     b'Iris-setosa'\n",
       "18   b'5.7'  b'3.8'  b'1.7'  b'0.3'     b'Iris-setosa'\n",
       "19   b'5.1'  b'3.8'  b'1.5'  b'0.3'     b'Iris-setosa'\n",
       "20   b'5.4'  b'3.4'  b'1.7'  b'0.2'     b'Iris-setosa'\n",
       "21   b'5.1'  b'3.7'  b'1.5'  b'0.4'     b'Iris-setosa'\n",
       "22   b'4.6'  b'3.6'  b'1.0'  b'0.2'     b'Iris-setosa'\n",
       "23   b'5.1'  b'3.3'  b'1.7'  b'0.5'     b'Iris-setosa'\n",
       "24   b'4.8'  b'3.4'  b'1.9'  b'0.2'     b'Iris-setosa'\n",
       "25   b'5.0'  b'3.0'  b'1.6'  b'0.2'     b'Iris-setosa'\n",
       "26   b'5.0'  b'3.4'  b'1.6'  b'0.4'     b'Iris-setosa'\n",
       "27   b'5.2'  b'3.5'  b'1.5'  b'0.2'     b'Iris-setosa'\n",
       "28   b'5.2'  b'3.4'  b'1.4'  b'0.2'     b'Iris-setosa'\n",
       "29   b'4.7'  b'3.2'  b'1.6'  b'0.2'     b'Iris-setosa'\n",
       "..      ...     ...     ...     ...                ...\n",
       "120  b'6.9'  b'3.2'  b'5.7'  b'2.3'  b'Iris-virginica'\n",
       "121  b'5.6'  b'2.8'  b'4.9'  b'2.0'  b'Iris-virginica'\n",
       "122  b'7.7'  b'2.8'  b'6.7'  b'2.0'  b'Iris-virginica'\n",
       "123  b'6.3'  b'2.7'  b'4.9'  b'1.8'  b'Iris-virginica'\n",
       "124  b'6.7'  b'3.3'  b'5.7'  b'2.1'  b'Iris-virginica'\n",
       "125  b'7.2'  b'3.2'  b'6.0'  b'1.8'  b'Iris-virginica'\n",
       "126  b'6.2'  b'2.8'  b'4.8'  b'1.8'  b'Iris-virginica'\n",
       "127  b'6.1'  b'3.0'  b'4.9'  b'1.8'  b'Iris-virginica'\n",
       "128  b'6.4'  b'2.8'  b'5.6'  b'2.1'  b'Iris-virginica'\n",
       "129  b'7.2'  b'3.0'  b'5.8'  b'1.6'  b'Iris-virginica'\n",
       "130  b'7.4'  b'2.8'  b'6.1'  b'1.9'  b'Iris-virginica'\n",
       "131  b'7.9'  b'3.8'  b'6.4'  b'2.0'  b'Iris-virginica'\n",
       "132  b'6.4'  b'2.8'  b'5.6'  b'2.2'  b'Iris-virginica'\n",
       "133  b'6.3'  b'2.8'  b'5.1'  b'1.5'  b'Iris-virginica'\n",
       "134  b'6.1'  b'2.6'  b'5.6'  b'1.4'  b'Iris-virginica'\n",
       "135  b'7.7'  b'3.0'  b'6.1'  b'2.3'  b'Iris-virginica'\n",
       "136  b'6.3'  b'3.4'  b'5.6'  b'2.4'  b'Iris-virginica'\n",
       "137  b'6.4'  b'3.1'  b'5.5'  b'1.8'  b'Iris-virginica'\n",
       "138  b'6.0'  b'3.0'  b'4.8'  b'1.8'  b'Iris-virginica'\n",
       "139  b'6.9'  b'3.1'  b'5.4'  b'2.1'  b'Iris-virginica'\n",
       "140  b'6.7'  b'3.1'  b'5.6'  b'2.4'  b'Iris-virginica'\n",
       "141  b'6.9'  b'3.1'  b'5.1'  b'2.3'  b'Iris-virginica'\n",
       "142  b'5.8'  b'2.7'  b'5.1'  b'1.9'  b'Iris-virginica'\n",
       "143  b'6.8'  b'3.2'  b'5.9'  b'2.3'  b'Iris-virginica'\n",
       "144  b'6.7'  b'3.3'  b'5.7'  b'2.5'  b'Iris-virginica'\n",
       "145  b'6.7'  b'3.0'  b'5.2'  b'2.3'  b'Iris-virginica'\n",
       "146  b'6.3'  b'2.5'  b'5.0'  b'1.9'  b'Iris-virginica'\n",
       "147  b'6.5'  b'3.0'  b'5.2'  b'2.0'  b'Iris-virginica'\n",
       "148  b'6.2'  b'3.4'  b'5.4'  b'2.3'  b'Iris-virginica'\n",
       "149  b'5.9'  b'3.0'  b'5.1'  b'1.8'  b'Iris-virginica'\n",
       "\n",
       "[150 rows x 5 columns]"
      ]
     },
     "execution_count": 10,
     "metadata": {},
     "output_type": "execute_result"
    }
   ],
   "source": [
    "pd.DataFrame(iris)"
   ]
  },
  {
   "cell_type": "code",
   "execution_count": 8,
   "metadata": {},
   "outputs": [
    {
     "data": {
      "text/plain": [
       "array([[b'5.1', b'3.5', b'1.4', b'0.2', b'Iris-setosa'],\n",
       "       [b'4.9', b'3.0', b'1.4', b'0.2', b'Iris-setosa'],\n",
       "       [b'4.7', b'3.2', b'1.3', b'0.2', b'Iris-setosa']], dtype=object)"
      ]
     },
     "execution_count": 8,
     "metadata": {},
     "output_type": "execute_result"
    }
   ],
   "source": [
    "iris[:3]"
   ]
  },
  {
   "cell_type": "code",
   "execution_count": 13,
   "metadata": {},
   "outputs": [
    {
     "data": {
      "text/plain": [
       "(150, 5)"
      ]
     },
     "execution_count": 13,
     "metadata": {},
     "output_type": "execute_result"
    }
   ],
   "source": [
    "iris.shape"
   ]
  },
  {
   "cell_type": "code",
   "execution_count": 14,
   "metadata": {},
   "outputs": [],
   "source": [
    "species=np.array([row[4] for row in iris])"
   ]
  },
  {
   "cell_type": "code",
   "execution_count": 16,
   "metadata": {},
   "outputs": [
    {
     "data": {
      "text/plain": [
       "array([b'Iris-setosa', b'Iris-setosa', b'Iris-setosa', b'Iris-setosa',\n",
       "       b'Iris-setosa'], dtype='|S15')"
      ]
     },
     "execution_count": 16,
     "metadata": {},
     "output_type": "execute_result"
    }
   ],
   "source": [
    "species[:5]"
   ]
  },
  {
   "cell_type": "code",
   "execution_count": 18,
   "metadata": {},
   "outputs": [],
   "source": [
    "iris_2d=np.array([row.tolist()[:4] for row in iris])"
   ]
  },
  {
   "cell_type": "code",
   "execution_count": 20,
   "metadata": {},
   "outputs": [
    {
     "data": {
      "text/plain": [
       "array([[b'5.1', b'3.5', b'1.4', b'0.2'],\n",
       "       [b'4.9', b'3.0', b'1.4', b'0.2'],\n",
       "       [b'4.7', b'3.2', b'1.3', b'0.2'],\n",
       "       [b'4.6', b'3.1', b'1.5', b'0.2']], dtype='|S3')"
      ]
     },
     "execution_count": 20,
     "metadata": {},
     "output_type": "execute_result"
    }
   ],
   "source": [
    "iris_2d[:4]"
   ]
  },
  {
   "cell_type": "code",
   "execution_count": 31,
   "metadata": {},
   "outputs": [],
   "source": [
    "sepallength=np.genfromtxt(\"https://archive.ics.uci.edu/ml/machine-learning-databases/iris/iris.data\",delimiter=',',dtype='float',usecols=[0])"
   ]
  },
  {
   "cell_type": "code",
   "execution_count": 32,
   "metadata": {},
   "outputs": [],
   "source": [
    "mean,median,std=np.mean(sepallength),np.median(sepallength),np.std(sepallength)"
   ]
  },
  {
   "cell_type": "code",
   "execution_count": 33,
   "metadata": {},
   "outputs": [
    {
     "name": "stdout",
     "output_type": "stream",
     "text": [
      "5.843333333333334 5.8 0.8253012917851409\n"
     ]
    }
   ],
   "source": [
    "print(mean,median,std)"
   ]
  },
  {
   "cell_type": "code",
   "execution_count": 35,
   "metadata": {},
   "outputs": [],
   "source": [
    "max,min=sepallength.max(),sepallength.min()"
   ]
  },
  {
   "cell_type": "code",
   "execution_count": 36,
   "metadata": {},
   "outputs": [],
   "source": [
    "S=sepallength-min/max-min"
   ]
  },
  {
   "cell_type": "code",
   "execution_count": 41,
   "metadata": {},
   "outputs": [
    {
     "data": {
      "text/plain": [
       "array([ 0.2556962,  0.0556962, -0.1443038, -0.2443038,  0.1556962,\n",
       "        0.5556962, -0.2443038,  0.1556962, -0.4443038,  0.0556962,\n",
       "        0.5556962, -0.0443038, -0.0443038, -0.5443038,  0.9556962,\n",
       "        0.8556962,  0.5556962,  0.2556962,  0.8556962,  0.2556962,\n",
       "        0.5556962,  0.2556962, -0.2443038,  0.2556962, -0.0443038,\n",
       "        0.1556962,  0.1556962,  0.3556962,  0.3556962, -0.1443038,\n",
       "       -0.0443038,  0.5556962,  0.3556962,  0.6556962,  0.0556962,\n",
       "        0.1556962,  0.6556962,  0.0556962, -0.4443038,  0.2556962,\n",
       "        0.1556962, -0.3443038, -0.4443038,  0.1556962,  0.2556962,\n",
       "       -0.0443038,  0.2556962, -0.2443038,  0.4556962,  0.1556962,\n",
       "        2.1556962,  1.5556962,  2.0556962,  0.6556962,  1.6556962,\n",
       "        0.8556962,  1.4556962,  0.0556962,  1.7556962,  0.3556962,\n",
       "        0.1556962,  1.0556962,  1.1556962,  1.2556962,  0.7556962,\n",
       "        1.8556962,  0.7556962,  0.9556962,  1.3556962,  0.7556962,\n",
       "        1.0556962,  1.2556962,  1.4556962,  1.2556962,  1.5556962,\n",
       "        1.7556962,  1.9556962,  1.8556962,  1.1556962,  0.8556962,\n",
       "        0.6556962,  0.6556962,  0.9556962,  1.1556962,  0.5556962,\n",
       "        1.1556962,  1.8556962,  1.4556962,  0.7556962,  0.6556962,\n",
       "        0.6556962,  1.2556962,  0.9556962,  0.1556962,  0.7556962,\n",
       "        0.8556962,  0.8556962,  1.3556962,  0.2556962,  0.8556962,\n",
       "        1.4556962,  0.9556962,  2.2556962,  1.4556962,  1.6556962,\n",
       "        2.7556962,  0.0556962,  2.4556962,  1.8556962,  2.3556962,\n",
       "        1.6556962,  1.5556962,  1.9556962,  0.8556962,  0.9556962,\n",
       "        1.5556962,  1.6556962,  2.8556962,  2.8556962,  1.1556962,\n",
       "        2.0556962,  0.7556962,  2.8556962,  1.4556962,  1.8556962,\n",
       "        2.3556962,  1.3556962,  1.2556962,  1.5556962,  2.3556962,\n",
       "        2.5556962,  3.0556962,  1.5556962,  1.4556962,  1.2556962,\n",
       "        2.8556962,  1.4556962,  1.5556962,  1.1556962,  2.0556962,\n",
       "        1.8556962,  2.0556962,  0.9556962,  1.9556962,  1.8556962,\n",
       "        1.8556962,  1.4556962,  1.6556962,  1.3556962,  1.0556962])"
      ]
     },
     "execution_count": 41,
     "metadata": {},
     "output_type": "execute_result"
    }
   ],
   "source": [
    "S"
   ]
  },
  {
   "cell_type": "code",
   "execution_count": 42,
   "metadata": {},
   "outputs": [],
   "source": [
    "def softmax(x):\n",
    "    e_x=np.exp(x-x.max())\n",
    "    return e_x/e_x.sum(axis=0)\n",
    "    "
   ]
  },
  {
   "cell_type": "code",
   "execution_count": 44,
   "metadata": {},
   "outputs": [
    {
     "data": {
      "text/plain": [
       "array([0.00221959, 0.00181724, 0.00148783, 0.00134625, 0.00200836,\n",
       "       0.00299613, 0.00134625, 0.00200836, 0.00110221, 0.00181724,\n",
       "       0.00299613, 0.00164431, 0.00164431, 0.00099732, 0.0044697 ,\n",
       "       0.00404435, 0.00299613, 0.00221959, 0.00404435, 0.00221959,\n",
       "       0.00299613, 0.00221959, 0.00134625, 0.00221959, 0.00164431,\n",
       "       0.00200836, 0.00200836, 0.00245302, 0.00245302, 0.00148783,\n",
       "       0.00164431, 0.00299613, 0.00245302, 0.00331123, 0.00181724,\n",
       "       0.00200836, 0.00331123, 0.00181724, 0.00110221, 0.00221959,\n",
       "       0.00200836, 0.00121813, 0.00110221, 0.00200836, 0.00221959,\n",
       "       0.00164431, 0.00221959, 0.00134625, 0.00271101, 0.00200836,\n",
       "       0.01483991, 0.00814432, 0.01342771, 0.00331123, 0.00900086,\n",
       "       0.00404435, 0.00736928, 0.00181724, 0.00994749, 0.00245302,\n",
       "       0.00200836, 0.00493978, 0.0054593 , 0.00603346, 0.00365948,\n",
       "       0.01099368, 0.00365948, 0.0044697 , 0.006668  , 0.00365948,\n",
       "       0.00493978, 0.00603346, 0.00736928, 0.00603346, 0.00814432,\n",
       "       0.00994749, 0.01214989, 0.01099368, 0.0054593 , 0.00404435,\n",
       "       0.00331123, 0.00331123, 0.0044697 , 0.0054593 , 0.00299613,\n",
       "       0.0054593 , 0.01099368, 0.00736928, 0.00365948, 0.00331123,\n",
       "       0.00331123, 0.00603346, 0.0044697 , 0.00200836, 0.00365948,\n",
       "       0.00404435, 0.00404435, 0.006668  , 0.00221959, 0.00404435,\n",
       "       0.00736928, 0.0044697 , 0.01640064, 0.00736928, 0.00900086,\n",
       "       0.02704008, 0.00181724, 0.02003179, 0.01099368, 0.01812551,\n",
       "       0.00900086, 0.00814432, 0.01214989, 0.00404435, 0.0044697 ,\n",
       "       0.00814432, 0.00900086, 0.02988391, 0.02988391, 0.0054593 ,\n",
       "       0.01342771, 0.00365948, 0.02988391, 0.00736928, 0.01099368,\n",
       "       0.01812551, 0.006668  , 0.00603346, 0.00814432, 0.01812551,\n",
       "       0.02213855, 0.0365003 , 0.00814432, 0.00736928, 0.00603346,\n",
       "       0.02988391, 0.00736928, 0.00814432, 0.0054593 , 0.01342771,\n",
       "       0.01099368, 0.01342771, 0.0044697 , 0.01214989, 0.01099368,\n",
       "       0.01099368, 0.00736928, 0.00900086, 0.006668  , 0.00493978])"
      ]
     },
     "execution_count": 44,
     "metadata": {},
     "output_type": "execute_result"
    }
   ],
   "source": [
    "softmax(sepallength)"
   ]
  },
  {
   "cell_type": "code",
   "execution_count": 46,
   "metadata": {},
   "outputs": [
    {
     "data": {
      "text/plain": [
       "array([4.6  , 7.255])"
      ]
     },
     "execution_count": 46,
     "metadata": {},
     "output_type": "execute_result"
    }
   ],
   "source": [
    "np.percentile(sepallength,[5,95])"
   ]
  },
  {
   "cell_type": "code",
   "execution_count": 47,
   "metadata": {},
   "outputs": [],
   "source": [
    "np.random.seed(100)"
   ]
  },
  {
   "cell_type": "code",
   "execution_count": 48,
   "metadata": {},
   "outputs": [],
   "source": [
    "i,j=np.where(iris_2d)"
   ]
  },
  {
   "cell_type": "code",
   "execution_count": 50,
   "metadata": {},
   "outputs": [],
   "source": [
    "iris_2d[np.random.choice((i),20),np.random.choice((j),20)]=np.nan"
   ]
  },
  {
   "cell_type": "code",
   "execution_count": 52,
   "metadata": {},
   "outputs": [
    {
     "data": {
      "text/plain": [
       "array([[b'5.1', b'3.5', b'1.4', b'0.2'],\n",
       "       [b'nan', b'3.0', b'1.4', b'0.2'],\n",
       "       [b'4.7', b'3.2', b'1.3', b'0.2'],\n",
       "       [b'4.6', b'3.1', b'1.5', b'0.2'],\n",
       "       [b'5.0', b'3.6', b'1.4', b'0.2'],\n",
       "       [b'5.4', b'3.9', b'1.7', b'0.4'],\n",
       "       [b'4.6', b'3.4', b'1.4', b'0.3'],\n",
       "       [b'5.0', b'3.4', b'1.5', b'0.2'],\n",
       "       [b'4.4', b'2.9', b'1.4', b'0.2'],\n",
       "       [b'4.9', b'3.1', b'1.5', b'0.1'],\n",
       "       [b'5.4', b'3.7', b'1.5', b'0.2'],\n",
       "       [b'4.8', b'3.4', b'1.6', b'0.2'],\n",
       "       [b'4.8', b'3.0', b'nan', b'0.1'],\n",
       "       [b'4.3', b'3.0', b'nan', b'0.1'],\n",
       "       [b'5.8', b'4.0', b'1.2', b'0.2'],\n",
       "       [b'5.7', b'4.4', b'1.5', b'0.4'],\n",
       "       [b'5.4', b'3.9', b'1.3', b'0.4'],\n",
       "       [b'5.1', b'3.5', b'1.4', b'0.3'],\n",
       "       [b'5.7', b'3.8', b'1.7', b'0.3'],\n",
       "       [b'nan', b'3.8', b'1.5', b'0.3'],\n",
       "       [b'5.4', b'3.4', b'1.7', b'0.2'],\n",
       "       [b'5.1', b'3.7', b'nan', b'0.4'],\n",
       "       [b'4.6', b'3.6', b'1.0', b'0.2'],\n",
       "       [b'nan', b'3.3', b'1.7', b'0.5'],\n",
       "       [b'4.8', b'3.4', b'1.9', b'0.2'],\n",
       "       [b'5.0', b'3.0', b'1.6', b'0.2'],\n",
       "       [b'5.0', b'3.4', b'1.6', b'0.4'],\n",
       "       [b'5.2', b'3.5', b'1.5', b'0.2'],\n",
       "       [b'5.2', b'3.4', b'1.4', b'0.2'],\n",
       "       [b'4.7', b'3.2', b'1.6', b'0.2'],\n",
       "       [b'4.8', b'3.1', b'1.6', b'0.2'],\n",
       "       [b'5.4', b'3.4', b'1.5', b'0.4'],\n",
       "       [b'5.2', b'4.1', b'1.5', b'0.1'],\n",
       "       [b'5.5', b'nan', b'1.4', b'0.2'],\n",
       "       [b'4.9', b'3.1', b'1.5', b'0.1'],\n",
       "       [b'5.0', b'nan', b'1.2', b'0.2'],\n",
       "       [b'5.5', b'3.5', b'1.3', b'0.2'],\n",
       "       [b'4.9', b'3.1', b'1.5', b'0.1'],\n",
       "       [b'4.4', b'3.0', b'1.3', b'0.2'],\n",
       "       [b'5.1', b'3.4', b'1.5', b'0.2'],\n",
       "       [b'5.0', b'3.5', b'1.3', b'0.3'],\n",
       "       [b'4.5', b'2.3', b'1.3', b'0.3'],\n",
       "       [b'4.4', b'3.2', b'1.3', b'0.2'],\n",
       "       [b'5.0', b'3.5', b'1.6', b'0.6'],\n",
       "       [b'5.1', b'3.8', b'1.9', b'0.4'],\n",
       "       [b'4.8', b'3.0', b'1.4', b'0.3'],\n",
       "       [b'5.1', b'3.8', b'1.6', b'0.2'],\n",
       "       [b'4.6', b'3.2', b'1.4', b'0.2'],\n",
       "       [b'5.3', b'3.7', b'1.5', b'0.2'],\n",
       "       [b'5.0', b'3.3', b'1.4', b'0.2'],\n",
       "       [b'7.0', b'3.2', b'4.7', b'1.4'],\n",
       "       [b'6.4', b'3.2', b'4.5', b'1.5'],\n",
       "       [b'6.9', b'3.1', b'4.9', b'1.5'],\n",
       "       [b'5.5', b'2.3', b'4.0', b'1.3'],\n",
       "       [b'6.5', b'2.8', b'4.6', b'1.5'],\n",
       "       [b'5.7', b'2.8', b'4.5', b'1.3'],\n",
       "       [b'6.3', b'3.3', b'4.7', b'1.6'],\n",
       "       [b'4.9', b'2.4', b'3.3', b'nan'],\n",
       "       [b'6.6', b'2.9', b'4.6', b'1.3'],\n",
       "       [b'5.2', b'2.7', b'3.9', b'1.4'],\n",
       "       [b'5.0', b'2.0', b'3.5', b'1.0'],\n",
       "       [b'5.9', b'3.0', b'4.2', b'1.5'],\n",
       "       [b'6.0', b'2.2', b'4.0', b'1.0'],\n",
       "       [b'6.1', b'2.9', b'4.7', b'1.4'],\n",
       "       [b'5.6', b'2.9', b'3.6', b'1.3'],\n",
       "       [b'6.7', b'3.1', b'4.4', b'1.4'],\n",
       "       [b'5.6', b'3.0', b'4.5', b'1.5'],\n",
       "       [b'5.8', b'2.7', b'4.1', b'1.0'],\n",
       "       [b'6.2', b'2.2', b'4.5', b'1.5'],\n",
       "       [b'5.6', b'2.5', b'3.9', b'1.1'],\n",
       "       [b'5.9', b'nan', b'4.8', b'1.8'],\n",
       "       [b'6.1', b'2.8', b'4.0', b'1.3'],\n",
       "       [b'6.3', b'2.5', b'4.9', b'1.5'],\n",
       "       [b'6.1', b'2.8', b'4.7', b'1.2'],\n",
       "       [b'6.4', b'2.9', b'4.3', b'1.3'],\n",
       "       [b'6.6', b'3.0', b'4.4', b'1.4'],\n",
       "       [b'6.8', b'2.8', b'4.8', b'1.4'],\n",
       "       [b'6.7', b'3.0', b'5.0', b'1.7'],\n",
       "       [b'6.0', b'2.9', b'4.5', b'1.5'],\n",
       "       [b'5.7', b'2.6', b'nan', b'1.0'],\n",
       "       [b'5.5', b'2.4', b'3.8', b'1.1'],\n",
       "       [b'5.5', b'2.4', b'3.7', b'1.0'],\n",
       "       [b'5.8', b'2.7', b'3.9', b'1.2'],\n",
       "       [b'6.0', b'2.7', b'5.1', b'1.6'],\n",
       "       [b'5.4', b'3.0', b'4.5', b'1.5'],\n",
       "       [b'6.0', b'3.4', b'4.5', b'1.6'],\n",
       "       [b'6.7', b'3.1', b'4.7', b'1.5'],\n",
       "       [b'6.3', b'2.3', b'nan', b'1.3'],\n",
       "       [b'5.6', b'3.0', b'4.1', b'1.3'],\n",
       "       [b'5.5', b'2.5', b'4.0', b'1.3'],\n",
       "       [b'5.5', b'2.6', b'4.4', b'1.2'],\n",
       "       [b'6.1', b'3.0', b'4.6', b'1.4'],\n",
       "       [b'5.8', b'2.6', b'4.0', b'1.2'],\n",
       "       [b'5.0', b'2.3', b'3.3', b'1.0'],\n",
       "       [b'5.6', b'2.7', b'4.2', b'1.3'],\n",
       "       [b'5.7', b'3.0', b'4.2', b'1.2'],\n",
       "       [b'nan', b'2.9', b'4.2', b'1.3'],\n",
       "       [b'6.2', b'2.9', b'4.3', b'1.3'],\n",
       "       [b'5.1', b'2.5', b'3.0', b'1.1'],\n",
       "       [b'5.7', b'2.8', b'4.1', b'1.3'],\n",
       "       [b'6.3', b'3.3', b'6.0', b'2.5'],\n",
       "       [b'5.8', b'2.7', b'5.1', b'1.9'],\n",
       "       [b'7.1', b'3.0', b'5.9', b'2.1'],\n",
       "       [b'6.3', b'nan', b'5.6', b'1.8'],\n",
       "       [b'6.5', b'3.0', b'5.8', b'2.2'],\n",
       "       [b'7.6', b'3.0', b'6.6', b'2.1'],\n",
       "       [b'4.9', b'2.5', b'4.5', b'1.7'],\n",
       "       [b'7.3', b'nan', b'6.3', b'1.8'],\n",
       "       [b'6.7', b'2.5', b'5.8', b'1.8'],\n",
       "       [b'7.2', b'3.6', b'6.1', b'2.5'],\n",
       "       [b'6.5', b'3.2', b'5.1', b'2.0'],\n",
       "       [b'6.4', b'2.7', b'5.3', b'1.9'],\n",
       "       [b'6.8', b'3.0', b'5.5', b'2.1'],\n",
       "       [b'5.7', b'2.5', b'5.0', b'2.0'],\n",
       "       [b'5.8', b'2.8', b'5.1', b'2.4'],\n",
       "       [b'6.4', b'3.2', b'5.3', b'2.3'],\n",
       "       [b'6.5', b'3.0', b'5.5', b'1.8'],\n",
       "       [b'7.7', b'3.8', b'6.7', b'2.2'],\n",
       "       [b'7.7', b'2.6', b'6.9', b'2.3'],\n",
       "       [b'6.0', b'2.2', b'5.0', b'1.5'],\n",
       "       [b'6.9', b'3.2', b'5.7', b'2.3'],\n",
       "       [b'5.6', b'2.8', b'4.9', b'2.0'],\n",
       "       [b'7.7', b'2.8', b'6.7', b'2.0'],\n",
       "       [b'6.3', b'2.7', b'4.9', b'1.8'],\n",
       "       [b'6.7', b'3.3', b'5.7', b'2.1'],\n",
       "       [b'7.2', b'3.2', b'6.0', b'1.8'],\n",
       "       [b'6.2', b'2.8', b'4.8', b'nan'],\n",
       "       [b'6.1', b'3.0', b'4.9', b'1.8'],\n",
       "       [b'6.4', b'2.8', b'5.6', b'2.1'],\n",
       "       [b'7.2', b'3.0', b'5.8', b'1.6'],\n",
       "       [b'7.4', b'nan', b'6.1', b'1.9'],\n",
       "       [b'7.9', b'3.8', b'6.4', b'nan'],\n",
       "       [b'6.4', b'2.8', b'5.6', b'2.2'],\n",
       "       [b'6.3', b'2.8', b'5.1', b'1.5'],\n",
       "       [b'6.1', b'2.6', b'5.6', b'1.4'],\n",
       "       [b'7.7', b'3.0', b'6.1', b'2.3'],\n",
       "       [b'6.3', b'3.4', b'5.6', b'2.4'],\n",
       "       [b'6.4', b'3.1', b'5.5', b'1.8'],\n",
       "       [b'6.0', b'3.0', b'4.8', b'1.8'],\n",
       "       [b'6.9', b'3.1', b'5.4', b'2.1'],\n",
       "       [b'6.7', b'3.1', b'5.6', b'2.4'],\n",
       "       [b'6.9', b'3.1', b'5.1', b'2.3'],\n",
       "       [b'5.8', b'nan', b'5.1', b'1.9'],\n",
       "       [b'6.8', b'3.2', b'5.9', b'2.3'],\n",
       "       [b'6.7', b'3.3', b'5.7', b'nan'],\n",
       "       [b'6.7', b'3.0', b'5.2', b'2.3'],\n",
       "       [b'6.3', b'2.5', b'5.0', b'1.9'],\n",
       "       [b'6.5', b'3.0', b'5.2', b'2.0'],\n",
       "       [b'6.2', b'3.4', b'5.4', b'2.3'],\n",
       "       [b'5.9', b'3.0', b'5.1', b'1.8']], dtype='|S3')"
      ]
     },
     "execution_count": 52,
     "metadata": {},
     "output_type": "execute_result"
    }
   ],
   "source": [
    "iris_2d"
   ]
  },
  {
   "cell_type": "code",
   "execution_count": 70,
   "metadata": {},
   "outputs": [],
   "source": [
    "iris_2d = np.genfromtxt(\"https://archive.ics.uci.edu/ml/machine-learning-databases/iris/iris.data\", delimiter=',', dtype='float', usecols=[0,1,2,3])\n",
    "iris_2d[np.random.randint(150, size=20), np.random.randint(4, size=20)] = np.nan"
   ]
  },
  {
   "cell_type": "code",
   "execution_count": 64,
   "metadata": {},
   "outputs": [
    {
     "name": "stdout",
     "output_type": "stream",
     "text": [
      "Number= 4\n",
      "Where= (array([  0,  71,  84, 138], dtype=int64),)\n"
     ]
    }
   ],
   "source": [
    "print(\"Number=\",np.isnan(iris_2d[:,0]).sum())\n",
    "print(\"Where=\",np.where(np.isnan(iris_2d[:,0])))"
   ]
  },
  {
   "cell_type": "code",
   "execution_count": 66,
   "metadata": {},
   "outputs": [],
   "source": [
    "iris_2d = np.genfromtxt(\"https://archive.ics.uci.edu/ml/machine-learning-databases/iris/iris.data\", delimiter=',', dtype='float', usecols=[0,1,2,3])"
   ]
  },
  {
   "cell_type": "code",
   "execution_count": 68,
   "metadata": {},
   "outputs": [],
   "source": [
    "cond=(iris_2d[:,2]>1.5) & (iris_2d[:,0]<5.0)"
   ]
  },
  {
   "cell_type": "code",
   "execution_count": 69,
   "metadata": {},
   "outputs": [
    {
     "data": {
      "text/plain": [
       "array([[4.8, 3.4, 1.6, 0.2],\n",
       "       [4.8, 3.4, 1.9, 0.2],\n",
       "       [4.7, 3.2, 1.6, 0.2],\n",
       "       [4.8, 3.1, 1.6, 0.2],\n",
       "       [4.9, 2.4, 3.3, 1. ],\n",
       "       [4.9, 2.5, 4.5, 1.7]])"
      ]
     },
     "execution_count": 69,
     "metadata": {},
     "output_type": "execute_result"
    }
   ],
   "source": [
    "iris_2d[cond]"
   ]
  },
  {
   "cell_type": "code",
   "execution_count": 71,
   "metadata": {},
   "outputs": [],
   "source": [
    "condt=iris_2d[:,:]!=np.nan"
   ]
  },
  {
   "cell_type": "code",
   "execution_count": 74,
   "metadata": {},
   "outputs": [],
   "source": [
    "nan_row=np.array([~np.any(np.isnan(row)) for row in iris_2d])"
   ]
  },
  {
   "cell_type": "code",
   "execution_count": 76,
   "metadata": {
    "scrolled": true
   },
   "outputs": [
    {
     "data": {
      "text/plain": [
       "array([[5.1, 3.5, 1.4, 0.2],\n",
       "       [4.9, 3. , 1.4, 0.2],\n",
       "       [4.7, 3.2, 1.3, 0.2],\n",
       "       [4.6, 3.1, 1.5, 0.2],\n",
       "       [5. , 3.6, 1.4, 0.2]])"
      ]
     },
     "execution_count": 76,
     "metadata": {},
     "output_type": "execute_result"
    }
   ],
   "source": [
    "iris_2d[nan_row][:5]"
   ]
  },
  {
   "cell_type": "code",
   "execution_count": 77,
   "metadata": {},
   "outputs": [],
   "source": [
    "iris = np.genfromtxt(\"https://archive.ics.uci.edu/ml/machine-learning-databases/iris/iris.data\", delimiter=',', dtype='float', usecols=[0,1,2,3])\n"
   ]
  },
  {
   "cell_type": "code",
   "execution_count": 82,
   "metadata": {},
   "outputs": [],
   "source": [
    "from scipy.stats.stats import pearsonr"
   ]
  },
  {
   "cell_type": "code",
   "execution_count": 84,
   "metadata": {},
   "outputs": [],
   "source": [
    "corr,pvalue=pearsonr(iris[:,0],iris[:,2])"
   ]
  },
  {
   "cell_type": "code",
   "execution_count": 85,
   "metadata": {},
   "outputs": [
    {
     "data": {
      "text/plain": [
       "0.8717541573048712"
      ]
     },
     "execution_count": 85,
     "metadata": {},
     "output_type": "execute_result"
    }
   ],
   "source": [
    "corr"
   ]
  },
  {
   "cell_type": "code",
   "execution_count": 86,
   "metadata": {},
   "outputs": [
    {
     "data": {
      "text/plain": [
       "1.0384540627941809e-47"
      ]
     },
     "execution_count": 86,
     "metadata": {},
     "output_type": "execute_result"
    }
   ],
   "source": [
    "pvalue"
   ]
  },
  {
   "cell_type": "code",
   "execution_count": 88,
   "metadata": {},
   "outputs": [
    {
     "data": {
      "text/plain": [
       "True"
      ]
     },
     "execution_count": 88,
     "metadata": {},
     "output_type": "execute_result"
    }
   ],
   "source": [
    "np.isnan(iris_2d).any()"
   ]
  },
  {
   "cell_type": "code",
   "execution_count": 95,
   "metadata": {},
   "outputs": [],
   "source": [
    "nan_row=([np.any(np.isnan(iris_2d)) for row in iris_2d])"
   ]
  },
  {
   "cell_type": "code",
   "execution_count": 97,
   "metadata": {},
   "outputs": [],
   "source": [
    "iris_2d[np.isnan(iris_2d)]=0"
   ]
  },
  {
   "cell_type": "code",
   "execution_count": 101,
   "metadata": {},
   "outputs": [
    {
     "data": {
      "text/plain": [
       "array([[5.1, 3.5, 1.4, 0.2],\n",
       "       [4.9, 3. , 1.4, 0.2],\n",
       "       [4.7, 3.2, 1.3, 0.2],\n",
       "       [4.6, 3.1, 1.5, 0.2],\n",
       "       [5. , 3.6, 1.4, 0.2],\n",
       "       [5.4, 3.9, 1.7, 0.4],\n",
       "       [0. , 3.4, 1.4, 0.3],\n",
       "       [5. , 3.4, 1.5, 0.2],\n",
       "       [4.4, 2.9, 1.4, 0.2],\n",
       "       [0. , 3.1, 1.5, 0.1]])"
      ]
     },
     "execution_count": 101,
     "metadata": {},
     "output_type": "execute_result"
    }
   ],
   "source": [
    "iris_2d[:10]"
   ]
  },
  {
   "cell_type": "code",
   "execution_count": 114,
   "metadata": {},
   "outputs": [],
   "source": [
    "iris=np.genfromtxt(\"https://archive.ics.uci.edu/ml/machine-learning-databases/iris/iris.data\", delimiter=',', dtype='object')"
   ]
  },
  {
   "cell_type": "code",
   "execution_count": 115,
   "metadata": {},
   "outputs": [],
   "source": [
    "species=np.array([row.tolist()[4] for row in iris])"
   ]
  },
  {
   "cell_type": "code",
   "execution_count": 116,
   "metadata": {},
   "outputs": [
    {
     "data": {
      "text/plain": [
       "(array([b'Iris-setosa', b'Iris-versicolor', b'Iris-virginica'],\n",
       "       dtype='|S15'), array([50, 50, 50], dtype=int64))"
      ]
     },
     "execution_count": 116,
     "metadata": {},
     "output_type": "execute_result"
    }
   ],
   "source": [
    "np.unique(species,return_counts=True)"
   ]
  },
  {
   "cell_type": "code",
   "execution_count": 117,
   "metadata": {},
   "outputs": [],
   "source": [
    "petal_length_bin = np.digitize(iris[:, 2].astype('float'), [0, 3, 5, 10])\n"
   ]
  },
  {
   "cell_type": "code",
   "execution_count": 118,
   "metadata": {},
   "outputs": [
    {
     "data": {
      "text/plain": [
       "array([1, 1, 1, 1, 1, 1, 1, 1, 1, 1, 1, 1, 1, 1, 1, 1, 1, 1, 1, 1, 1, 1,\n",
       "       1, 1, 1, 1, 1, 1, 1, 1, 1, 1, 1, 1, 1, 1, 1, 1, 1, 1, 1, 1, 1, 1,\n",
       "       1, 1, 1, 1, 1, 1, 2, 2, 2, 2, 2, 2, 2, 2, 2, 2, 2, 2, 2, 2, 2, 2,\n",
       "       2, 2, 2, 2, 2, 2, 2, 2, 2, 2, 2, 3, 2, 2, 2, 2, 2, 3, 2, 2, 2, 2,\n",
       "       2, 2, 2, 2, 2, 2, 2, 2, 2, 2, 2, 2, 3, 3, 3, 3, 3, 3, 2, 3, 3, 3,\n",
       "       3, 3, 3, 3, 3, 3, 3, 3, 3, 3, 3, 2, 3, 2, 3, 3, 2, 2, 3, 3, 3, 3,\n",
       "       3, 3, 3, 3, 3, 3, 2, 3, 3, 3, 3, 3, 3, 3, 3, 3, 3, 3], dtype=int64)"
      ]
     },
     "execution_count": 118,
     "metadata": {},
     "output_type": "execute_result"
    }
   ],
   "source": [
    "petal_length_bin"
   ]
  },
  {
   "cell_type": "code",
   "execution_count": 121,
   "metadata": {},
   "outputs": [],
   "source": [
    "label_map={1:'Small',2:'Medium',3:'Large',4:np.nan}"
   ]
  },
  {
   "cell_type": "code",
   "execution_count": 123,
   "metadata": {},
   "outputs": [],
   "source": [
    "petal_length_cat = [label_map[x] for x in petal_length_bin]\n"
   ]
  },
  {
   "cell_type": "code",
   "execution_count": 125,
   "metadata": {},
   "outputs": [
    {
     "data": {
      "text/plain": [
       "['Small',\n",
       " 'Small',\n",
       " 'Small',\n",
       " 'Small',\n",
       " 'Small',\n",
       " 'Small',\n",
       " 'Small',\n",
       " 'Small',\n",
       " 'Small',\n",
       " 'Small',\n",
       " 'Small',\n",
       " 'Small',\n",
       " 'Small',\n",
       " 'Small',\n",
       " 'Small',\n",
       " 'Small',\n",
       " 'Small',\n",
       " 'Small',\n",
       " 'Small',\n",
       " 'Small',\n",
       " 'Small',\n",
       " 'Small',\n",
       " 'Small',\n",
       " 'Small',\n",
       " 'Small',\n",
       " 'Small',\n",
       " 'Small',\n",
       " 'Small',\n",
       " 'Small',\n",
       " 'Small',\n",
       " 'Small',\n",
       " 'Small',\n",
       " 'Small',\n",
       " 'Small',\n",
       " 'Small',\n",
       " 'Small',\n",
       " 'Small',\n",
       " 'Small',\n",
       " 'Small',\n",
       " 'Small',\n",
       " 'Small',\n",
       " 'Small',\n",
       " 'Small',\n",
       " 'Small',\n",
       " 'Small',\n",
       " 'Small',\n",
       " 'Small',\n",
       " 'Small',\n",
       " 'Small',\n",
       " 'Small',\n",
       " 'Medium',\n",
       " 'Medium',\n",
       " 'Medium',\n",
       " 'Medium',\n",
       " 'Medium',\n",
       " 'Medium',\n",
       " 'Medium',\n",
       " 'Medium',\n",
       " 'Medium',\n",
       " 'Medium',\n",
       " 'Medium',\n",
       " 'Medium',\n",
       " 'Medium',\n",
       " 'Medium',\n",
       " 'Medium',\n",
       " 'Medium',\n",
       " 'Medium',\n",
       " 'Medium',\n",
       " 'Medium',\n",
       " 'Medium',\n",
       " 'Medium',\n",
       " 'Medium',\n",
       " 'Medium',\n",
       " 'Medium',\n",
       " 'Medium',\n",
       " 'Medium',\n",
       " 'Medium',\n",
       " 'Large',\n",
       " 'Medium',\n",
       " 'Medium',\n",
       " 'Medium',\n",
       " 'Medium',\n",
       " 'Medium',\n",
       " 'Large',\n",
       " 'Medium',\n",
       " 'Medium',\n",
       " 'Medium',\n",
       " 'Medium',\n",
       " 'Medium',\n",
       " 'Medium',\n",
       " 'Medium',\n",
       " 'Medium',\n",
       " 'Medium',\n",
       " 'Medium',\n",
       " 'Medium',\n",
       " 'Medium',\n",
       " 'Medium',\n",
       " 'Medium',\n",
       " 'Medium',\n",
       " 'Medium',\n",
       " 'Large',\n",
       " 'Large',\n",
       " 'Large',\n",
       " 'Large',\n",
       " 'Large',\n",
       " 'Large',\n",
       " 'Medium',\n",
       " 'Large',\n",
       " 'Large',\n",
       " 'Large',\n",
       " 'Large',\n",
       " 'Large',\n",
       " 'Large',\n",
       " 'Large',\n",
       " 'Large',\n",
       " 'Large',\n",
       " 'Large',\n",
       " 'Large',\n",
       " 'Large',\n",
       " 'Large',\n",
       " 'Large',\n",
       " 'Medium',\n",
       " 'Large',\n",
       " 'Medium',\n",
       " 'Large',\n",
       " 'Large',\n",
       " 'Medium',\n",
       " 'Medium',\n",
       " 'Large',\n",
       " 'Large',\n",
       " 'Large',\n",
       " 'Large',\n",
       " 'Large',\n",
       " 'Large',\n",
       " 'Large',\n",
       " 'Large',\n",
       " 'Large',\n",
       " 'Large',\n",
       " 'Medium',\n",
       " 'Large',\n",
       " 'Large',\n",
       " 'Large',\n",
       " 'Large',\n",
       " 'Large',\n",
       " 'Large',\n",
       " 'Large',\n",
       " 'Large',\n",
       " 'Large',\n",
       " 'Large',\n",
       " 'Large']"
      ]
     },
     "execution_count": 125,
     "metadata": {},
     "output_type": "execute_result"
    }
   ],
   "source": [
    "petal_length_cat"
   ]
  },
  {
   "cell_type": "code",
   "execution_count": 1,
   "metadata": {},
   "outputs": [
    {
     "ename": "NameError",
     "evalue": "name 'iris' is not defined",
     "output_type": "error",
     "traceback": [
      "\u001b[1;31m---------------------------------------------------------------------------\u001b[0m",
      "\u001b[1;31mNameError\u001b[0m                                 Traceback (most recent call last)",
      "\u001b[1;32m<ipython-input-1-5c93502afc24>\u001b[0m in \u001b[0;36m<module>\u001b[1;34m\u001b[0m\n\u001b[1;32m----> 1\u001b[1;33m \u001b[0miris\u001b[0m\u001b[1;33m.\u001b[0m\u001b[0mhead\u001b[0m\u001b[1;33m(\u001b[0m\u001b[1;33m)\u001b[0m\u001b[1;33m\u001b[0m\u001b[1;33m\u001b[0m\u001b[0m\n\u001b[0m",
      "\u001b[1;31mNameError\u001b[0m: name 'iris' is not defined"
     ]
    }
   ],
   "source": [
    "iris.head()"
   ]
  },
  {
   "cell_type": "code",
   "execution_count": null,
   "metadata": {},
   "outputs": [],
   "source": []
  }
 ],
 "metadata": {
  "kernelspec": {
   "display_name": "Python 3",
   "language": "python",
   "name": "python3"
  },
  "language_info": {
   "codemirror_mode": {
    "name": "ipython",
    "version": 3
   },
   "file_extension": ".py",
   "mimetype": "text/x-python",
   "name": "python",
   "nbconvert_exporter": "python",
   "pygments_lexer": "ipython3",
   "version": "3.7.3"
  }
 },
 "nbformat": 4,
 "nbformat_minor": 2
}
